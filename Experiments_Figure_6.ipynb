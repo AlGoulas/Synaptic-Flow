{
 "cells": [
  {
   "cell_type": "markdown",
   "metadata": {},
   "source": [
    "# Setting up\n",
    "git clone https://github.com/ganguli-lab/Synaptic-Flow ./Public-Synaptic-Flow\n",
    "\n",
    "virtualenv -p python3 ./SynFlow_env \n",
    "\n",
    "source SynFlow_env/bin/activate\n",
    "\n",
    "cd Public-Synaptic-Flow\n",
    "\n",
    "pip install -r requirements.txt"
   ]
  },
  {
   "cell_type": "markdown",
   "metadata": {},
   "source": [
    "# CIFAR-10\n",
    "## VGG-11 (seed 0)\n",
    "CUDA_VISIBLE_DEVICES=? python3 main.py --experiment=singleshot --optimizer=momentum --lr=0.1 --lr-drops 60 120 --lr-drop-rate=0.1 --train-batch-size=128 --weight-decay=1e-4 --pre-epochs=0 --post-epochs=160 --gpu=0 --expid=0630_2020_cifar10_lottery_vgg11_bn_run0  --seed=0 --dataset=cifar10 --model-class=lottery --model=vgg11-bn --pruner-list rand mag snip grasp synflow --prune-epoch-list 1 1 1 1 100 --compression-list \n",
    "3.0 2.75 2.5 2.25 2.0 1.75 1.5 1.25 1.0 0.75 0.5 0.25 0\n",
    "\n",
    "## VGG-16 (seed 100)\n",
    "CUDA_VISIBLE_DEVICES=? python3 main.py --experiment=singleshot --optimizer=momentum --lr=0.1 --lr-drops 60 120 --lr-drop-rate=0.1 --train-batch-size=128 --weight-decay=1e-4 --pre-epochs=0 --post-epochs=160 --gpu=0 --expid=0630_2020_cifar10_lottery_vgg16_bn_run0  --seed=100 --dataset=cifar10 --model-class=lottery --model=vgg16-bn --pruner-list rand mag snip grasp synflow --prune-epoch-list 1 1 1 1 100 --compression-list \n",
    "3.0 2.75 2.5 2.25 2.0 1.75 1.5 1.25 1.0 0.75 0.5 0.25 0\n",
    "\n",
    "## ResNet-18 (seed 200)\n",
    "CUDA_VISIBLE_DEVICES=? python3 main.py --experiment=singleshot --optimizer=momentum --lr=0.01 --lr-drops 60 120 --lr-drop-rate=0.2 --train-batch-size=128 --weight-decay=5e-4 --pre-epochs=0 --post-epochs=160 --gpu=0 --expid=0630_2020_cifar10_tinyimagenet_resnet18_run0  --seed=200 --dataset=cifar10 --model-class=tinyimagenet --model=resnet18 --pruner-list rand mag snip grasp synflow --prune-epoch-list 1 1 1 1 100 --compression-list \n",
    "3.0 2.75 2.5 2.25 2.0 1.75 1.5 1.25 1.0 0.75 0.5 0.25 0\n",
    "\n",
    "\n",
    "## WideResNet-18 (seed 300)\n",
    "CUDA_VISIBLE_DEVICES=? python3 main.py --experiment=singleshot --optimizer=momentum --lr=0.01 --lr-drops 60 120 --lr-drop-rate=0.2 --train-batch-size=128 --weight-decay=5e-4 --pre-epochs=0 --post-epochs=160 --gpu=0 --expid=0630_2020_cifar10_tinyimagenet_wide_resnet18_run0  --seed=300 --dataset=cifar10 --model-class=tinyimagenet --model=wide-resnet18 --pruner-list rand mag snip grasp synflow --prune-epoch-list 1 1 1 1 100 --compression-list \n",
    "3.0 2.75 2.5 2.25 2.0 1.75 1.5 1.25 1.0 0.75 0.5 0.25 0\n",
    "\n",
    "\n",
    "\n",
    "\n",
    "# CIFAR-100\n",
    "## VGG-11 (seed 1000)\n",
    "CUDA_VISIBLE_DEVICES=? python3 main.py --experiment=singleshot --optimizer=momentum --lr=0.1 --lr-drops 60 120 --lr-drop-rate=0.1 --train-batch-size=128 --weight-decay=1e-4 --pre-epochs=0 --post-epochs=160 --gpu=0 --expid=0630_2020_cifar100_lottery_vgg11_bn_run0  --seed=1000 --dataset=cifar100 --model-class=lottery --model=vgg11-bn --pruner-list rand mag snip grasp synflow --prune-epoch-list 1 1 1 1 100 --compression-list \n",
    "3.0 2.75 2.5 2.25 2.0 1.75 1.5 1.25 1.0 0.75 0.5 0.25 0\n",
    "\n",
    "## VGG-16 (seed 1100)\n",
    "CUDA_VISIBLE_DEVICES=? python3 main.py --experiment=singleshot --optimizer=momentum --lr=0.1 --lr-drops 60 120 --lr-drop-rate=0.1 --train-batch-size=128 --weight-decay=1e-4 --pre-epochs=0 --post-epochs=160 --gpu=0 --expid=0630_2020_cifar100_lottery_vgg16_bn_run0  --seed=1100 --dataset=cifar100 --model-class=lottery --model=vgg16-bn --pruner-list rand mag snip grasp synflow --prune-epoch-list 1 1 1 1 100 --compression-list \n",
    "3.0 2.75 2.5 2.25 2.0 1.75 1.5 1.25 1.0 0.75 0.5 0.25 0\n",
    "\n",
    "## ResNet-18 (seed 1200)\n",
    "CUDA_VISIBLE_DEVICES=? python3 main.py --experiment=singleshot --optimizer=momentum --lr=0.01 --lr-drops 60 120 --lr-drop-rate=0.2 --train-batch-size=128 --weight-decay=5e-4 --pre-epochs=0 --post-epochs=160 --gpu=0 --expid=0630_2020_cifar10_tinyimagenet_resnet18_run0  --seed=1200 --dataset=cifar10 --model-class=tinyimagenet --model=resnet18 --pruner-list rand mag snip grasp synflow --prune-epoch-list 1 1 1 1 100 --compression-list \n",
    "3.0 2.75 2.5 2.25 2.0 1.75 1.5 1.25 1.0 0.75 0.5 0.25 0\n",
    "\n",
    "## WideResNet-18 (seed 1300)\n",
    "CUDA_VISIBLE_DEVICES=? python3 main.py --experiment=singleshot --optimizer=momentum --lr=0.01 --lr-drops 60 120 --lr-drop-rate=0.2 --train-batch-size=128 --weight-decay=5e-4 --pre-epochs=0 --post-epochs=160 --gpu=0 --expid=0630_2020_cifar10_tinyimagenet_wide_resnet18_run0  --seed=1300 --dataset=cifar10 --model-class=tinyimagenet --model=wide-resnet18 --pruner-list rand mag snip grasp synflow --prune-epoch-list 1 1 1 1 100 --compression-list \n",
    "3.0 2.75 2.5 2.25 2.0 1.75 1.5 1.25 1.0 0.75 0.5 0.25 0\n",
    "\n",
    "\n",
    "# Tiny ImageNet\n",
    "## VGG-11 (seed 2000)\n",
    "CUDA_VISIBLE_DEVICES=? python3 main.py --experiment=singleshot --optimizer=momentum --lr=0.01 --lr-drops 30 60 80 --lr-drop-rate=0.01 --train-batch-size=128 --workers=10 --weight-decay=1e-4 --pre-epochs=0 --post-epochs=100 --gpu=0 --expid=0630_2020_cifar100_tinyimagenet_tinyimagenet_vgg11_bn_run0  --seed=2000 --dataset=tiny-imagenet --model-class=tinyimagenet --model=vgg11-bn --pruner-list rand mag snip grasp synflow --prune-epoch-list 1 1 1 1 100 --compression-list \n",
    "3.0 2.75 2.5 2.25 2.0 1.75 1.5 1.25 1.0 0.75 0.5 0.25 0\n",
    "\n",
    "\n",
    "## VGG-16 (seed 2100)\n",
    "CUDA_VISIBLE_DEVICES=? python3 main.py --experiment=singleshot --optimizer=momentum --lr=0.01 --lr-drops 30 60 80 --lr-drop-rate=0.01 --train-batch-size=128 --workers=10 --weight-decay=1e-4 --pre-epochs=0 --post-epochs=100 --gpu=0 --expid=0630_2020_cifar100_tinyimagenet_tinyimagenet_vgg11_bn_run0  --seed=2100 --dataset=tiny-imagenet --model-class=tinyimagenet --model=vgg11-bn --pruner-list rand mag snip grasp synflow --prune-epoch-list 1 1 1 1 100 --compression-list \n",
    "3.0 2.75 2.5 2.25 2.0 1.75 1.5 1.25 1.0 0.75 0.5 0.25 0\n",
    "\n",
    "\n",
    "## ResNet-18 (seed 2200)\n",
    "CUDA_VISIBLE_DEVICES=? python3 main.py --experiment=singleshot --optimizer=momentum --lr=0.01 --lr-drops 30 60 80 --lr-drop-rate=0.01 --train-batch-size=128 --workers=10 --weight-decay=1e-4 --pre-epochs=0 --post-epochs=100 --gpu=0 --expid=0630_2020_cifar100_tinyimagenet_tinyimagenet_resnet18_run0  --seed=2200 --dataset=tiny-imagenet --model-class=tinyimagenet --model=resnet18 --pruner-list rand mag snip grasp synflow --prune-epoch-list 1 1 1 1 100 --compression-list \n",
    "3.0 2.75 2.5 2.25 2.0 1.75 1.5 1.25 1.0 0.75 0.5 0.25 0\n",
    "\n",
    "\n",
    "## WideResNet-18 (seed 2300)\n",
    "CUDA_VISIBLE_DEVICES=? python3 main.py --experiment=singleshot --optimizer=momentum --lr=0.01 --lr-drops 30 60 80 --lr-drop-rate=0.01 --train-batch-size=128 --workers=10 --weight-decay=1e-4 --pre-epochs=0 --post-epochs=100 --gpu=0 --expid=0630_2020_cifar100_tinyimagenet_tinyimagenet_wide_resnet18_run0  --seed=2200 --dataset=tiny-imagenet --model-class=tinyimagenet --model=wide-resnet18 --pruner-list rand mag snip grasp synflow --prune-epoch-list 1 1 1 1 100 --compression-list \n",
    "3.0 2.75 2.5 2.25 2.0 1.75 1.5 1.25 1.0 0.75 0.5 0.25 0\n",
    "\n"
   ]
  },
  {
   "cell_type": "code",
   "execution_count": null,
   "metadata": {},
   "outputs": [],
   "source": []
  }
 ],
 "metadata": {
  "kernelspec": {
   "display_name": "Python 3",
   "language": "python",
   "name": "python3"
  },
  "language_info": {
   "codemirror_mode": {
    "name": "ipython",
    "version": 3
   },
   "file_extension": ".py",
   "mimetype": "text/x-python",
   "name": "python",
   "nbconvert_exporter": "python",
   "pygments_lexer": "ipython3",
   "version": "3.7.6"
  }
 },
 "nbformat": 4,
 "nbformat_minor": 4
}
